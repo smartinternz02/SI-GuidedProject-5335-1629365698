{
 "cells": [
  {
   "cell_type": "code",
   "execution_count": 5,
   "metadata": {},
   "outputs": [],
   "source": [
    "import numpy as np\n",
    "from tensorflow.keras.applications.vgg16 import VGG16, preprocess_input\n",
    "import os\n",
    "import PIL.Image\n",
    "from pickle import dump, load\n",
    "from tensorflow.keras.models import Model, load_model\n",
    "from tensorflow.keras.preprocessing import image\n",
    "from tensorflow.keras.preprocessing.text import Tokenizer\n",
    "from tensorflow.keras.utils import to_categorical\n",
    "from tensorflow.keras.preprocessing.sequence import pad_sequences\n",
    "#from keras.layers.merge import add\n",
    "from tensorflow.keras.layers import Input, Dense, Flatten, LSTM, Dropout\n",
    "from tensorflow.keras.callbacks import ModelCheckpoint\n",
    "#from nltk.translate.bleu_score import corpus_blue"
   ]
  },
  {
   "cell_type": "code",
   "execution_count": 6,
   "metadata": {},
   "outputs": [],
   "source": [
    "def extract_features(path):\n",
    "    model = VGG16()\n",
    "    #model = model.layers.pop()\n",
    "    model = Model(inputs = model.input, outputs = model.layers[-2].output)\n",
    "    print(model.summary())\n",
    "    features = dict()\n",
    "    for name in os.listdir(path):\n",
    "        img_path = path + '/' + name\n",
    "        img = image.load_img(img_path, target_size = (224,224))\n",
    "        img = image.img_to_array(img)\n",
    "        img = np.expand_dims(img, axis = 0)\n",
    "        img = preprocess_input(img)\n",
    "        feature = model.predict(img, verbose = 0)\n",
    "        img_name = name.split('.')[0]\n",
    "        features[img_name] = feature\n",
    "    return features"
   ]
  },
  {
   "cell_type": "code",
   "execution_count": 7,
   "metadata": {},
   "outputs": [],
   "source": [
    "path = r'Flicker8k_Dataset'"
   ]
  },
  {
   "cell_type": "code",
   "execution_count": 8,
   "metadata": {},
   "outputs": [
    {
     "name": "stdout",
     "output_type": "stream",
     "text": [
      "Model: \"functional_1\"\n",
      "_________________________________________________________________\n",
      "Layer (type)                 Output Shape              Param #   \n",
      "=================================================================\n",
      "input_1 (InputLayer)         [(None, 224, 224, 3)]     0         \n",
      "_________________________________________________________________\n",
      "block1_conv1 (Conv2D)        (None, 224, 224, 64)      1792      \n",
      "_________________________________________________________________\n",
      "block1_conv2 (Conv2D)        (None, 224, 224, 64)      36928     \n",
      "_________________________________________________________________\n",
      "block1_pool (MaxPooling2D)   (None, 112, 112, 64)      0         \n",
      "_________________________________________________________________\n",
      "block2_conv1 (Conv2D)        (None, 112, 112, 128)     73856     \n",
      "_________________________________________________________________\n",
      "block2_conv2 (Conv2D)        (None, 112, 112, 128)     147584    \n",
      "_________________________________________________________________\n",
      "block2_pool (MaxPooling2D)   (None, 56, 56, 128)       0         \n",
      "_________________________________________________________________\n",
      "block3_conv1 (Conv2D)        (None, 56, 56, 256)       295168    \n",
      "_________________________________________________________________\n",
      "block3_conv2 (Conv2D)        (None, 56, 56, 256)       590080    \n",
      "_________________________________________________________________\n",
      "block3_conv3 (Conv2D)        (None, 56, 56, 256)       590080    \n",
      "_________________________________________________________________\n",
      "block3_pool (MaxPooling2D)   (None, 28, 28, 256)       0         \n",
      "_________________________________________________________________\n",
      "block4_conv1 (Conv2D)        (None, 28, 28, 512)       1180160   \n",
      "_________________________________________________________________\n",
      "block4_conv2 (Conv2D)        (None, 28, 28, 512)       2359808   \n",
      "_________________________________________________________________\n",
      "block4_conv3 (Conv2D)        (None, 28, 28, 512)       2359808   \n",
      "_________________________________________________________________\n",
      "block4_pool (MaxPooling2D)   (None, 14, 14, 512)       0         \n",
      "_________________________________________________________________\n",
      "block5_conv1 (Conv2D)        (None, 14, 14, 512)       2359808   \n",
      "_________________________________________________________________\n",
      "block5_conv2 (Conv2D)        (None, 14, 14, 512)       2359808   \n",
      "_________________________________________________________________\n",
      "block5_conv3 (Conv2D)        (None, 14, 14, 512)       2359808   \n",
      "_________________________________________________________________\n",
      "block5_pool (MaxPooling2D)   (None, 7, 7, 512)         0         \n",
      "_________________________________________________________________\n",
      "flatten (Flatten)            (None, 25088)             0         \n",
      "_________________________________________________________________\n",
      "fc1 (Dense)                  (None, 4096)              102764544 \n",
      "_________________________________________________________________\n",
      "fc2 (Dense)                  (None, 4096)              16781312  \n",
      "=================================================================\n",
      "Total params: 134,260,544\n",
      "Trainable params: 134,260,544\n",
      "Non-trainable params: 0\n",
      "_________________________________________________________________\n",
      "None\n"
     ]
    }
   ],
   "source": [
    "features = extract_features(path)"
   ]
  },
  {
   "cell_type": "code",
   "execution_count": 9,
   "metadata": {},
   "outputs": [
    {
     "name": "stdout",
     "output_type": "stream",
     "text": [
      "Total number of features extracted =  8091\n"
     ]
    }
   ],
   "source": [
    "print(\"Total number of features extracted = \", len(features))\n"
   ]
  },
  {
   "cell_type": "code",
   "execution_count": 10,
   "metadata": {},
   "outputs": [],
   "source": [
    "dump(features, open('features.pkl', 'wb'))\n"
   ]
  },
  {
   "cell_type": "code",
   "execution_count": 11,
   "metadata": {},
   "outputs": [],
   "source": [
    "def load_doc(filepath):\n",
    "    file = open(filepath, 'r')\n",
    "    text = file.read()\n",
    "    file.close()\n",
    "    return text"
   ]
  },
  {
   "cell_type": "code",
   "execution_count": 12,
   "metadata": {},
   "outputs": [],
   "source": [
    "def map_photo_to_desc(descriptions):\n",
    "    desc_mapping = dict()\n",
    "    for line in descriptions.split('\\n'):\n",
    "        words = line.split()\n",
    "        if(len(line) < 2):\n",
    "            continue\n",
    "        img_id, img_desc = words[0], words[1:]\n",
    "        img_id = img_id.split('.')[0]\n",
    "        img_desc = ' '.join(img_desc)\n",
    "        if img_id not in desc_mapping:\n",
    "            desc_mapping[img_id] = list()\n",
    "        desc_mapping[img_id].append(img_desc)   \n",
    "    return desc_mapping        "
   ]
  },
  {
   "cell_type": "code",
   "execution_count": 13,
   "metadata": {},
   "outputs": [],
   "source": [
    "import string"
   ]
  },
  {
   "cell_type": "code",
   "execution_count": 14,
   "metadata": {},
   "outputs": [],
   "source": [
    "def clean_desc(desc_mapping):\n",
    "    table = str.maketrans('','', string.punctuation)\n",
    "    for key, descriptions in desc_mapping.items():\n",
    "        for i in range(len(descriptions)):\n",
    "            description = descriptions[i]\n",
    "            description = description.split()\n",
    "            description = [word.lower() for word in description]\n",
    "            description = [word.translate(table) for word in description]\n",
    "            description = [word for word in description if (len(word) > 1)] \n",
    "            description = [word for word in description if (word.isalpha())]\n",
    "            descriptions[i] = ' '.join(description)\n",
    "            #new\n",
    "            #descriptions[key][i] = descriptions\n",
    "    #return descriptions       "
   ]
  },
  {
   "cell_type": "code",
   "execution_count": null,
   "metadata": {},
   "outputs": [],
   "source": []
  },
  {
   "cell_type": "code",
   "execution_count": 15,
   "metadata": {},
   "outputs": [],
   "source": [
    "def to_vocabulary(descriptions):\n",
    "    all_desc = set()\n",
    "    for key in descriptions.keys():\n",
    "        [all_desc.update(d.split()) for d in descriptions[key]]\n",
    "    return all_desc  "
   ]
  },
  {
   "cell_type": "code",
   "execution_count": 16,
   "metadata": {},
   "outputs": [],
   "source": [
    "def save_descriptions(descriptions, filepath):\n",
    "    lines = list()\n",
    "    for key, desc_list in descriptions.items():\n",
    "        for desc in desc_list:\n",
    "            lines.append(key+' '+ desc)\n",
    "    data = \"\\n\".join(lines)\n",
    "    file = open(filepath, 'w')\n",
    "    file.write(data)\n",
    "    file.close()"
   ]
  },
  {
   "cell_type": "code",
   "execution_count": 17,
   "metadata": {},
   "outputs": [
    {
     "name": "stdout",
     "output_type": "stream",
     "text": [
      "Loaded =  8092\n",
      "Vocabulary length  8763\n"
     ]
    }
   ],
   "source": [
    "file_name = r'extras/Flickr8k.token.txt'\n",
    "doc = load_doc(file_name)\n",
    "descriptions = map_photo_to_desc(doc)\n",
    "print(\"Loaded = \", len(descriptions))\n",
    "clean_desc(descriptions)\n",
    "vocabulary = to_vocabulary(descriptions)\n",
    "print(\"Vocabulary length \",len(vocabulary))\n",
    "save_descriptions(descriptions, \"descriptions.txt\")"
   ]
  },
  {
   "cell_type": "code",
   "execution_count": 18,
   "metadata": {},
   "outputs": [],
   "source": [
    "from tensorflow.keras.layers import Input, Dense, Embedding, LSTM, Dropout"
   ]
  },
  {
   "cell_type": "code",
   "execution_count": 19,
   "metadata": {},
   "outputs": [],
   "source": [
    "def load_doc(filepath):\n",
    "    file = open(filepath, 'r')\n",
    "    text = file.read()\n",
    "    file.close()\n",
    "    return text"
   ]
  },
  {
   "cell_type": "code",
   "execution_count": 20,
   "metadata": {},
   "outputs": [],
   "source": [
    "def load_photo_identifiers(filepath):\n",
    "    file = load_doc(filepath)\n",
    "    photos = list()\n",
    "    for line in file.split('\\n'):\n",
    "        if(len(line) < 1):\n",
    "            continue\n",
    "        identifier = line.split('.')[0]\n",
    "        photos.append(identifier)\n",
    "    return set(photos)"
   ]
  },
  {
   "cell_type": "code",
   "execution_count": 21,
   "metadata": {},
   "outputs": [],
   "source": [
    "def load_clean_descriptions(filepath, photos):\n",
    "    file = load_doc(filepath)\n",
    "    descriptions = dict()\n",
    "    for line in file.split('\\n'):\n",
    "        words = line.split()\n",
    "        img_id, img_desc = words[0], words[1:]\n",
    "        if img_id in photos:\n",
    "            if img_id not in descriptions:\n",
    "                descriptions[img_id] = list()\n",
    "            desc = 'startseq ' + ' '.join(img_desc) + ' endseq'\n",
    "            descriptions[img_id].append(desc)\n",
    "    return descriptions"
   ]
  },
  {
   "cell_type": "code",
   "execution_count": 22,
   "metadata": {},
   "outputs": [],
   "source": [
    "def load_photo_features(filepath, photos):\n",
    "    all_features = load(open(filepath, 'rb'))\n",
    "    features = {k:all_features[k] for k in photos}\n",
    "    return features"
   ]
  },
  {
   "cell_type": "code",
   "execution_count": 23,
   "metadata": {},
   "outputs": [
    {
     "name": "stdout",
     "output_type": "stream",
     "text": [
      "Dataset :  6000\n",
      "Descriptions: train =  6000\n",
      "Photos: train =  6000\n"
     ]
    }
   ],
   "source": [
    "filepath = r\"extras/Flickr_8k.trainImages.txt\"\n",
    "train = load_photo_identifiers(filepath)\n",
    "print(\"Dataset : \", len(train))\n",
    "train_descriptions = load_clean_descriptions('descriptions.txt', train)\n",
    "print(\"Descriptions: train = \", len(train_descriptions))\n",
    "train_features = load_photo_features('features.pkl', train)\n",
    "print(\"Photos: train = \", len(train_features))"
   ]
  },
  {
   "cell_type": "code",
   "execution_count": 24,
   "metadata": {},
   "outputs": [],
   "source": [
    "def to_lines(descriptions):\n",
    "    all_desc = []\n",
    "    for key in descriptions.keys():\n",
    "        [all_desc.append(d) for d in descriptions[key]]\n",
    "    return all_desc"
   ]
  },
  {
   "cell_type": "code",
   "execution_count": 25,
   "metadata": {},
   "outputs": [],
   "source": [
    "def create_tokenizer(descriptions):\n",
    "    lines = to_lines(descriptions)\n",
    "    tokenizer = Tokenizer()\n",
    "    tokenizer.fit_on_texts(lines)\n",
    "    return tokenizer"
   ]
  },
  {
   "cell_type": "code",
   "execution_count": 26,
   "metadata": {},
   "outputs": [
    {
     "name": "stdout",
     "output_type": "stream",
     "text": [
      "Vocabulary size 7579\n"
     ]
    }
   ],
   "source": [
    "tokenizer = create_tokenizer(train_descriptions)\n",
    "dump(tokenizer, open('tokenizer.pkl','wb'))\n",
    "vocab_size = len(tokenizer.word_index) + 1\n",
    "print(\"Vocabulary size\", vocab_size)"
   ]
  },
  {
   "cell_type": "code",
   "execution_count": 27,
   "metadata": {},
   "outputs": [],
   "source": [
    "def max_length(descriptions):\n",
    "    lines = to_lines(descriptions)\n",
    "    return max(len(d.split()) for d in lines)"
   ]
  },
  {
   "cell_type": "code",
   "execution_count": 28,
   "metadata": {},
   "outputs": [
    {
     "data": {
      "text/plain": [
       "32"
      ]
     },
     "execution_count": 28,
     "metadata": {},
     "output_type": "execute_result"
    }
   ],
   "source": [
    "max_length = max_length(descriptions)\n",
    "max_length"
   ]
  },
  {
   "cell_type": "code",
   "execution_count": null,
   "metadata": {},
   "outputs": [],
   "source": [
    "#real"
   ]
  },
  {
   "cell_type": "code",
   "execution_count": null,
   "metadata": {},
   "outputs": [],
   "source": [
    "# #def data_generator(descriptions, photos, tokenizer, max_length):\n",
    "#     while 1:\n",
    "#         for key, description_list in descriptions.items():\n",
    "#             photo = photos[key][0]\n",
    "#             input_image, input_sequence, output_word = create_sequences(tokenizer, max_length, description_list, photo)\n",
    "#             yield([np.array(input_image), np.array(input_sequence)], np.array(output_word))\n",
    "            \n",
    "# #def create_sequences(tokenizer, max_length, desc_list, photo):\n",
    "#     X1, X2, y = list(), list(), list()\n",
    "#     for desc in desc_list:\n",
    "#         seq = tokenizer.texts_to_sequences([desc])[0]\n",
    "#         for i in range(1, len(seq)):\n",
    "#             in_seq, out_seq = seq[:i], seq[i]\n",
    "#             in_seq = pad_sequences([in_seq], maxlen = max_length)[0]\n",
    "#             out_seq = to_categorical([out_seq], num_classes = vocab_size)[0]\n",
    "#             X1.append(photo)\n",
    "#             X2.append(in_seq)\n",
    "#             y.append(out_seq)\n",
    "#     return np.array(X1), np.array(X2), np.array(y)"
   ]
  },
  {
   "cell_type": "code",
   "execution_count": 29,
   "metadata": {},
   "outputs": [],
   "source": [
    "def data_generator(descriptions, photos, tokenizer, max_length, vocab_size):\n",
    "\t# loop for ever over images\n",
    "\twhile 1:\n",
    "\t\tfor key, desc_list in descriptions.items():\n",
    "\t\t\t# retrieve the photo feature\n",
    "\t\t\tphoto = photos[key][0]\n",
    "\t\t\tin_img, in_seq, out_word = create_sequences(tokenizer, max_length, desc_list, photo, vocab_size)\n",
    "\t\t\tyield [in_img, in_seq], out_word"
   ]
  },
  {
   "cell_type": "code",
   "execution_count": 30,
   "metadata": {},
   "outputs": [],
   "source": [
    "def create_sequences(tokenizer, max_length, desc_list, photo, vocab_size):\n",
    "\tX1, X2, y = list(), list(), list()\n",
    "\t# walk through each description for the image\n",
    "\tfor desc in desc_list:\n",
    "\t\t# encode the sequence\n",
    "\t\tseq = tokenizer.texts_to_sequences([desc])[0]\n",
    "\t\t# split one sequence into multiple X,y pairs\n",
    "\t\tfor i in range(1, len(seq)):\n",
    "\t\t\t# split into input and output pair\n",
    "\t\t\tin_seq, out_seq = seq[:i], seq[i]\n",
    "\t\t\t# pad input sequence\n",
    "\t\t\tin_seq = pad_sequences([in_seq], maxlen=max_length)[0]\n",
    "\t\t\t# encode output sequence\n",
    "\t\t\tout_seq = to_categorical([out_seq], num_classes=vocab_size)[0]\n",
    "\t\t\t# store\n",
    "\t\t\tX1.append(photo)\n",
    "\t\t\tX2.append(in_seq)\n",
    "\t\t\ty.append(out_seq)\n",
    "\treturn np.array(X1), np.array(X2), np.array(y)"
   ]
  },
  {
   "cell_type": "code",
   "execution_count": 31,
   "metadata": {},
   "outputs": [
    {
     "name": "stdout",
     "output_type": "stream",
     "text": [
      "(47, 4096)\n",
      "(47, 32)\n",
      "(47, 7579)\n"
     ]
    }
   ],
   "source": [
    "generator = data_generator(train_descriptions, train_features, tokenizer, max_length, vocab_size)\n",
    "inputs, outputs = next(generator)\n",
    "print(inputs[0].shape)\n",
    "print(inputs[1].shape)\n",
    "print(outputs.shape)"
   ]
  },
  {
   "cell_type": "code",
   "execution_count": 32,
   "metadata": {},
   "outputs": [
    {
     "data": {
      "text/plain": [
       "((47, 4096), (47, 32), (47, 7579))"
      ]
     },
     "execution_count": 32,
     "metadata": {},
     "output_type": "execute_result"
    }
   ],
   "source": [
    "(a,b),c = next(data_generator(train_descriptions, train_features, tokenizer, max_length, vocab_size))\n",
    "a.shape, b.shape, c.shape\n",
    "#((47, 2048), (47, 32), (47, 7577))\n",
    "#a, b, c = create_sequences(tokenizer, max_length, descriptions, photos, vocab_size)\n",
    "#a.shape, b.shape, c.shape"
   ]
  },
  {
   "cell_type": "code",
   "execution_count": 30,
   "metadata": {},
   "outputs": [],
   "source": [
    "from tensorflow.keras.utils import plot_model\n",
    "def define_model(vocab_size, max_length):\n",
    "    #feature extractor model\n",
    "    i1 = Input(shape = (4096,))\n",
    "    fe1 = Dropout(0.5)(i1)\n",
    "    fe2 = Dense(256, activation = 'relu')(fe1)\n",
    "    #sequence model\n",
    "    i2 = Input(shape = (max_length,))\n",
    "    se1 = Embedding(vocab_size, 256, mask_zero = True)(i2)\n",
    "    se2 = Dropout(0.5)(se1)\n",
    "    se3 = LSTM(256)(se2)\n",
    "    #decoder model\n",
    "    decoder1 = add([fe2, se3])\n",
    "    decoder2 = Dense(256, activation = 'relu')(decoder1)\n",
    "    out = Dense(vocab_size, activation = 'softmax')(decoder2)\n",
    "    #Binding them together\n",
    "    model = Model(inputs = [i1, i2], outputs = out)\n",
    "    model.compile(loss = 'categorical_crossentropy', optimizer = 'adam')\n",
    "    #Model summary\n",
    "    print(model.summary())\n",
    "    plot_model(model, to_file = 'model.png', show_shapes = True)\n",
    "    return model"
   ]
  },
  {
   "cell_type": "code",
   "execution_count": 32,
   "metadata": {},
   "outputs": [
    {
     "name": "stdout",
     "output_type": "stream",
     "text": [
      "Descriptions: train =  6000\n",
      "Photos: train =  6000\n",
      "Model: \"functional_3\"\n",
      "__________________________________________________________________________________________________\n",
      "Layer (type)                    Output Shape         Param #     Connected to                     \n",
      "==================================================================================================\n",
      "input_3 (InputLayer)            [(None, 32)]         0                                            \n",
      "__________________________________________________________________________________________________\n",
      "input_2 (InputLayer)            [(None, 4096)]       0                                            \n",
      "__________________________________________________________________________________________________\n",
      "embedding (Embedding)           (None, 32, 256)      1940224     input_3[0][0]                    \n",
      "__________________________________________________________________________________________________\n",
      "dropout (Dropout)               (None, 4096)         0           input_2[0][0]                    \n",
      "__________________________________________________________________________________________________\n",
      "dropout_1 (Dropout)             (None, 32, 256)      0           embedding[0][0]                  \n",
      "__________________________________________________________________________________________________\n",
      "dense (Dense)                   (None, 256)          1048832     dropout[0][0]                    \n",
      "__________________________________________________________________________________________________\n",
      "lstm (LSTM)                     (None, 256)          525312      dropout_1[0][0]                  \n",
      "__________________________________________________________________________________________________\n",
      "add (Add)                       (None, 256)          0           dense[0][0]                      \n",
      "                                                                 lstm[0][0]                       \n",
      "__________________________________________________________________________________________________\n",
      "dense_1 (Dense)                 (None, 256)          65792       add[0][0]                        \n",
      "__________________________________________________________________________________________________\n",
      "dense_2 (Dense)                 (None, 7579)         1947803     dense_1[0][0]                    \n",
      "==================================================================================================\n",
      "Total params: 5,527,963\n",
      "Trainable params: 5,527,963\n",
      "Non-trainable params: 0\n",
      "__________________________________________________________________________________________________\n",
      "None\n",
      "('Failed to import pydot. You must `pip install pydot` and install graphviz (https://graphviz.gitlab.io/download/), ', 'for `pydotprint` to work.')\n",
      "WARNING:tensorflow:From <ipython-input-32-3d1b7b701777>:14: Model.fit_generator (from tensorflow.python.keras.engine.training) is deprecated and will be removed in a future version.\n",
      "Instructions for updating:\n",
      "Please use Model.fit, which supports generators.\n",
      "6000/6000 [==============================] - 754s 126ms/step - loss: 4.6712\n",
      "6000/6000 [==============================] - 831s 139ms/step - loss: 3.8940\n",
      "6000/6000 [==============================] - 750s 125ms/step - loss: 3.6397\n",
      "6000/6000 [==============================] - 757s 126ms/step - loss: 3.4854\n",
      "6000/6000 [==============================] - 747s 124ms/step - loss: 3.3861\n",
      "6000/6000 [==============================] - 771s 128ms/step - loss: 3.3134\n",
      "6000/6000 [==============================] - 761s 127ms/step - loss: 3.2638\n",
      "6000/6000 [==============================] - 782s 130ms/step - loss: 3.2162\n",
      "6000/6000 [==============================] - 772s 129ms/step - loss: 3.1840\n",
      "6000/6000 [==============================] - 794s 132ms/step - loss: 3.1662\n"
     ]
    }
   ],
   "source": [
    "from tensorflow.keras.models import load_model\n",
    "from tensorflow.keras.layers import add\n",
    "from tensorflow.keras.layers import concatenate\n",
    "train_descriptions = load_clean_descriptions('descriptions.txt', train)\n",
    "print(\"Descriptions: train = \", len(train_descriptions))\n",
    "train_features = load_photo_features('features.pkl', train)\n",
    "print(\"Photos: train = \", len(train_features))\n",
    "model = define_model(vocab_size, max_length)\n",
    "epochs = 10\n",
    "steps = len(train_descriptions)\n",
    "\n",
    "for i in range(epochs):\n",
    "    generator = data_generator(train_descriptions, train_features, tokenizer, max_length, vocab_size)\n",
    "    model.fit_generator(generator, epochs = 1, steps_per_epoch = steps, verbose = 1)\n",
    "    model.save('model_' + str(i) + '.h5')"
   ]
  },
  {
   "cell_type": "code",
   "execution_count": 34,
   "metadata": {},
   "outputs": [
    {
     "data": {
      "text/plain": [
       "((47, 4096), (47, 32), (47, 7579))"
      ]
     },
     "execution_count": 34,
     "metadata": {},
     "output_type": "execute_result"
    }
   ],
   "source": [
    "[a,b],c = next(data_generator(train_descriptions, features, tokenizer, max_length, vocab_size))\n",
    "a.shape, b.shape, c.shape\n",
    "#((47, 2048), (47, 32), (47, 7577))"
   ]
  },
  {
   "cell_type": "markdown",
   "metadata": {},
   "source": [
    "# Testing the Mode"
   ]
  },
  {
   "cell_type": "code",
   "execution_count": 33,
   "metadata": {},
   "outputs": [],
   "source": [
    "import numpy as np\n",
    "from PIL import Image\n",
    "import matplotlib.pyplot as plt\n",
    "import argparse"
   ]
  },
  {
   "cell_type": "code",
   "execution_count": 34,
   "metadata": {},
   "outputs": [],
   "source": [
    "from keras.preprocessing.image import load_img\n",
    "\n",
    "def extract_features(filename):\n",
    "    model = VGG16()\n",
    "    model.layers.pop()\n",
    "    model = Model(model.input, outputs = model.layers[-1].output)\n",
    "    image = load_img(filename, target_size = (224, 224))\n",
    "    image = image.reshape((1, image.shape[0], image.shape[1], image.shape[2]))\n",
    "    image = preprocess_input(image)\n",
    "    feature = model.predict(image, verbose = 0)\n",
    "    return feature"
   ]
  },
  {
   "cell_type": "code",
   "execution_count": 35,
   "metadata": {},
   "outputs": [],
   "source": [
    "def word_for_id(integer, tokenizer):\n",
    "    for word, index in tokenizer.word_index.items():\n",
    "        if index == integer:\n",
    "            return word\n",
    "    return None"
   ]
  },
  {
   "cell_type": "code",
   "execution_count": 36,
   "metadata": {},
   "outputs": [],
   "source": [
    "def generate_desc(model, tokenizer, photo, max_length):\n",
    "    in_text = 'start'\n",
    "    for i in range(max_length):\n",
    "        sequence = tokenizer.texts_to_sequences([in_text])[0]\n",
    "        sequence = pad_sequences([sequence], maxlen=max_length)\n",
    "        yhat = model.predict([photo,sequence], verbose=0)\n",
    "        yhat = np.argmax(pred)\n",
    "        word = word_for_id(yhat, tokenizer)\n",
    "        if word is None:\n",
    "            break\n",
    "        in_text += ' ' + word\n",
    "        if word == 'end':\n",
    "            break\n",
    "    return in_text"
   ]
  },
  {
   "cell_type": "code",
   "execution_count": 37,
   "metadata": {},
   "outputs": [],
   "source": [
    "tokenizer = load(open('tokenizer.pkl', 'rb'))\n",
    "max_length = 34"
   ]
  },
  {
   "cell_type": "code",
   "execution_count": 38,
   "metadata": {},
   "outputs": [],
   "source": [
    "import tensorflow as tf\n",
    "\n",
    "gpu_options = tf.compat.v1.GPUOptions(allow_growth=True)\n",
    "session = tf.compat.v1.InteractiveSession(config=tf.compat.v1.ConfigProto(gpu_options=gpu_options))"
   ]
  },
  {
   "cell_type": "code",
   "execution_count": null,
   "metadata": {},
   "outputs": [],
   "source": [
    "model = load_model('caption.h5')\n",
    "path = 'check2.jpg'\n",
    "photo = extract_features(path)\n",
    "description = generate_desc(model, tokenizer, photo, max_length)\n",
    "print(\"\\n\\n\")\n",
    "print(description)\n",
    "plt.imshow(img)"
   ]
  },
  {
   "cell_type": "code",
   "execution_count": null,
   "metadata": {},
   "outputs": [],
   "source": []
  }
 ],
 "metadata": {
  "kernelspec": {
   "display_name": "Python 3",
   "language": "python",
   "name": "python3"
  },
  "language_info": {
   "codemirror_mode": {
    "name": "ipython",
    "version": 3
   },
   "file_extension": ".py",
   "mimetype": "text/x-python",
   "name": "python",
   "nbconvert_exporter": "python",
   "pygments_lexer": "ipython3",
   "version": "3.8.3"
  }
 },
 "nbformat": 4,
 "nbformat_minor": 2
}
